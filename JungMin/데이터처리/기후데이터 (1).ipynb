{
 "cells": [
  {
   "cell_type": "code",
   "execution_count": 80,
   "id": "78833616",
   "metadata": {},
   "outputs": [],
   "source": [
    "#여러변수출력코드\n",
    "from IPython.core.interactiveshell import InteractiveShell\n",
    "InteractiveShell.ast_node_interactivity=\"all\"\n",
    "\n",
    "#모듈 import\n",
    "import numpy as np\n",
    "import pandas as pd"
   ]
  },
  {
   "cell_type": "code",
   "execution_count": 81,
   "id": "54a4e434",
   "metadata": {},
   "outputs": [
    {
     "data": {
      "text/html": [
       "<div>\n",
       "<style scoped>\n",
       "    .dataframe tbody tr th:only-of-type {\n",
       "        vertical-align: middle;\n",
       "    }\n",
       "\n",
       "    .dataframe tbody tr th {\n",
       "        vertical-align: top;\n",
       "    }\n",
       "\n",
       "    .dataframe thead th {\n",
       "        text-align: right;\n",
       "    }\n",
       "</style>\n",
       "<table border=\"1\" class=\"dataframe\">\n",
       "  <thead>\n",
       "    <tr style=\"text-align: right;\">\n",
       "      <th></th>\n",
       "      <th>no</th>\n",
       "      <th>loc</th>\n",
       "      <th>start</th>\n",
       "      <th>end</th>\n",
       "      <th>rainseason</th>\n",
       "      <th>raindays</th>\n",
       "      <th>total</th>\n",
       "    </tr>\n",
       "  </thead>\n",
       "  <tbody>\n",
       "    <tr>\n",
       "      <th>0</th>\n",
       "      <td>184</td>\n",
       "      <td>제주</td>\n",
       "      <td>1990-06-18</td>\n",
       "      <td>1990-07-17</td>\n",
       "      <td>30</td>\n",
       "      <td>19</td>\n",
       "      <td>445.0</td>\n",
       "    </tr>\n",
       "    <tr>\n",
       "      <th>1</th>\n",
       "      <td>185</td>\n",
       "      <td>고산</td>\n",
       "      <td>1990-06-18</td>\n",
       "      <td>1990-07-17</td>\n",
       "      <td>30</td>\n",
       "      <td>18</td>\n",
       "      <td>251.4</td>\n",
       "    </tr>\n",
       "    <tr>\n",
       "      <th>2</th>\n",
       "      <td>188</td>\n",
       "      <td>성산</td>\n",
       "      <td>1990-06-18</td>\n",
       "      <td>1990-07-17</td>\n",
       "      <td>30</td>\n",
       "      <td>12</td>\n",
       "      <td>411.1</td>\n",
       "    </tr>\n",
       "    <tr>\n",
       "      <th>3</th>\n",
       "      <td>189</td>\n",
       "      <td>서귀포</td>\n",
       "      <td>1990-06-18</td>\n",
       "      <td>1990-07-17</td>\n",
       "      <td>30</td>\n",
       "      <td>19</td>\n",
       "      <td>504.3</td>\n",
       "    </tr>\n",
       "    <tr>\n",
       "      <th>4</th>\n",
       "      <td>90</td>\n",
       "      <td>속초</td>\n",
       "      <td>1990-06-19</td>\n",
       "      <td>1990-07-27</td>\n",
       "      <td>39</td>\n",
       "      <td>30</td>\n",
       "      <td>412.3</td>\n",
       "    </tr>\n",
       "    <tr>\n",
       "      <th>...</th>\n",
       "      <td>...</td>\n",
       "      <td>...</td>\n",
       "      <td>...</td>\n",
       "      <td>...</td>\n",
       "      <td>...</td>\n",
       "      <td>...</td>\n",
       "      <td>...</td>\n",
       "    </tr>\n",
       "    <tr>\n",
       "      <th>2107</th>\n",
       "      <td>285</td>\n",
       "      <td>합천</td>\n",
       "      <td>2021-07-03</td>\n",
       "      <td>2021-07-19</td>\n",
       "      <td>17</td>\n",
       "      <td>11</td>\n",
       "      <td>226.4</td>\n",
       "    </tr>\n",
       "    <tr>\n",
       "      <th>2108</th>\n",
       "      <td>288</td>\n",
       "      <td>밀양</td>\n",
       "      <td>2021-07-03</td>\n",
       "      <td>2021-07-19</td>\n",
       "      <td>17</td>\n",
       "      <td>12</td>\n",
       "      <td>308.0</td>\n",
       "    </tr>\n",
       "    <tr>\n",
       "      <th>2109</th>\n",
       "      <td>289</td>\n",
       "      <td>산청</td>\n",
       "      <td>2021-07-03</td>\n",
       "      <td>2021-07-19</td>\n",
       "      <td>17</td>\n",
       "      <td>10</td>\n",
       "      <td>205.1</td>\n",
       "    </tr>\n",
       "    <tr>\n",
       "      <th>2110</th>\n",
       "      <td>294</td>\n",
       "      <td>거제</td>\n",
       "      <td>2021-07-03</td>\n",
       "      <td>2021-07-19</td>\n",
       "      <td>17</td>\n",
       "      <td>10</td>\n",
       "      <td>447.6</td>\n",
       "    </tr>\n",
       "    <tr>\n",
       "      <th>2111</th>\n",
       "      <td>295</td>\n",
       "      <td>남해</td>\n",
       "      <td>2021-07-03</td>\n",
       "      <td>2021-07-19</td>\n",
       "      <td>17</td>\n",
       "      <td>8</td>\n",
       "      <td>503.0</td>\n",
       "    </tr>\n",
       "  </tbody>\n",
       "</table>\n",
       "<p>2112 rows × 7 columns</p>\n",
       "</div>"
      ],
      "text/plain": [
       "       no  loc       start         end  rainseason  raindays  total\n",
       "0     184   제주  1990-06-18  1990-07-17          30        19  445.0\n",
       "1     185   고산  1990-06-18  1990-07-17          30        18  251.4\n",
       "2     188   성산  1990-06-18  1990-07-17          30        12  411.1\n",
       "3     189  서귀포  1990-06-18  1990-07-17          30        19  504.3\n",
       "4      90   속초  1990-06-19  1990-07-27          39        30  412.3\n",
       "...   ...  ...         ...         ...         ...       ...    ...\n",
       "2107  285   합천  2021-07-03  2021-07-19          17        11  226.4\n",
       "2108  288   밀양  2021-07-03  2021-07-19          17        12  308.0\n",
       "2109  289   산청  2021-07-03  2021-07-19          17        10  205.1\n",
       "2110  294   거제  2021-07-03  2021-07-19          17        10  447.6\n",
       "2111  295   남해  2021-07-03  2021-07-19          17         8  503.0\n",
       "\n",
       "[2112 rows x 7 columns]"
      ]
     },
     "execution_count": 81,
     "metadata": {},
     "output_type": "execute_result"
    }
   ],
   "source": [
    "rainseason = pd.read_csv('C:/ds_work/data/rainseason.csv',encoding='cp949')\n",
    "rainseason"
   ]
  },
  {
   "cell_type": "code",
   "execution_count": 76,
   "id": "4be07060",
   "metadata": {},
   "outputs": [
    {
     "data": {
      "text/plain": [
       "지점번호     0\n",
       "지점명      0\n",
       "시작일      0\n",
       "종료일      0\n",
       "장마일수     0\n",
       "강수일수     0\n",
       "합계강수량    0\n",
       "dtype: int64"
      ]
     },
     "execution_count": 76,
     "metadata": {},
     "output_type": "execute_result"
    }
   ],
   "source": [
    "rainseason.isnull().sum()"
   ]
  },
  {
   "cell_type": "code",
   "execution_count": 77,
   "id": "a4ad5c15",
   "metadata": {},
   "outputs": [
    {
     "name": "stdout",
     "output_type": "stream",
     "text": [
      "<class 'pandas.core.frame.DataFrame'>\n",
      "RangeIndex: 2112 entries, 0 to 2111\n",
      "Data columns (total 7 columns):\n",
      " #   Column  Non-Null Count  Dtype  \n",
      "---  ------  --------------  -----  \n",
      " 0   지점번호    2112 non-null   int64  \n",
      " 1   지점명     2112 non-null   object \n",
      " 2   시작일     2112 non-null   object \n",
      " 3   종료일     2112 non-null   object \n",
      " 4   장마일수    2112 non-null   int64  \n",
      " 5   강수일수    2112 non-null   int64  \n",
      " 6   합계강수량   2112 non-null   float64\n",
      "dtypes: float64(1), int64(3), object(3)\n",
      "memory usage: 115.6+ KB\n"
     ]
    }
   ],
   "source": [
    "rainseason.info()"
   ]
  },
  {
   "cell_type": "code",
   "execution_count": 82,
   "id": "23360aa3",
   "metadata": {},
   "outputs": [
    {
     "data": {
      "text/html": [
       "<div>\n",
       "<style scoped>\n",
       "    .dataframe tbody tr th:only-of-type {\n",
       "        vertical-align: middle;\n",
       "    }\n",
       "\n",
       "    .dataframe tbody tr th {\n",
       "        vertical-align: top;\n",
       "    }\n",
       "\n",
       "    .dataframe thead th {\n",
       "        text-align: right;\n",
       "    }\n",
       "</style>\n",
       "<table border=\"1\" class=\"dataframe\">\n",
       "  <thead>\n",
       "    <tr style=\"text-align: right;\">\n",
       "      <th></th>\n",
       "      <th>no</th>\n",
       "      <th>loc</th>\n",
       "      <th>start</th>\n",
       "      <th>end</th>\n",
       "      <th>rainseason</th>\n",
       "      <th>raindays</th>\n",
       "      <th>total</th>\n",
       "      <th>year_time</th>\n",
       "    </tr>\n",
       "  </thead>\n",
       "  <tbody>\n",
       "    <tr>\n",
       "      <th>0</th>\n",
       "      <td>184</td>\n",
       "      <td>제주</td>\n",
       "      <td>1990-06-18</td>\n",
       "      <td>1990-07-17</td>\n",
       "      <td>30</td>\n",
       "      <td>19</td>\n",
       "      <td>445.0</td>\n",
       "      <td>1990-06-18</td>\n",
       "    </tr>\n",
       "    <tr>\n",
       "      <th>1</th>\n",
       "      <td>185</td>\n",
       "      <td>고산</td>\n",
       "      <td>1990-06-18</td>\n",
       "      <td>1990-07-17</td>\n",
       "      <td>30</td>\n",
       "      <td>18</td>\n",
       "      <td>251.4</td>\n",
       "      <td>1990-06-18</td>\n",
       "    </tr>\n",
       "    <tr>\n",
       "      <th>2</th>\n",
       "      <td>188</td>\n",
       "      <td>성산</td>\n",
       "      <td>1990-06-18</td>\n",
       "      <td>1990-07-17</td>\n",
       "      <td>30</td>\n",
       "      <td>12</td>\n",
       "      <td>411.1</td>\n",
       "      <td>1990-06-18</td>\n",
       "    </tr>\n",
       "    <tr>\n",
       "      <th>3</th>\n",
       "      <td>189</td>\n",
       "      <td>서귀포</td>\n",
       "      <td>1990-06-18</td>\n",
       "      <td>1990-07-17</td>\n",
       "      <td>30</td>\n",
       "      <td>19</td>\n",
       "      <td>504.3</td>\n",
       "      <td>1990-06-18</td>\n",
       "    </tr>\n",
       "    <tr>\n",
       "      <th>4</th>\n",
       "      <td>90</td>\n",
       "      <td>속초</td>\n",
       "      <td>1990-06-19</td>\n",
       "      <td>1990-07-27</td>\n",
       "      <td>39</td>\n",
       "      <td>30</td>\n",
       "      <td>412.3</td>\n",
       "      <td>1990-06-19</td>\n",
       "    </tr>\n",
       "  </tbody>\n",
       "</table>\n",
       "</div>"
      ],
      "text/plain": [
       "    no  loc       start         end  rainseason  raindays  total  year_time\n",
       "0  184   제주  1990-06-18  1990-07-17          30        19  445.0 1990-06-18\n",
       "1  185   고산  1990-06-18  1990-07-17          30        18  251.4 1990-06-18\n",
       "2  188   성산  1990-06-18  1990-07-17          30        12  411.1 1990-06-18\n",
       "3  189  서귀포  1990-06-18  1990-07-17          30        19  504.3 1990-06-18\n",
       "4   90   속초  1990-06-19  1990-07-27          39        30  412.3 1990-06-19"
      ]
     },
     "execution_count": 82,
     "metadata": {},
     "output_type": "execute_result"
    },
    {
     "data": {
      "text/html": [
       "<div>\n",
       "<style scoped>\n",
       "    .dataframe tbody tr th:only-of-type {\n",
       "        vertical-align: middle;\n",
       "    }\n",
       "\n",
       "    .dataframe tbody tr th {\n",
       "        vertical-align: top;\n",
       "    }\n",
       "\n",
       "    .dataframe thead th {\n",
       "        text-align: right;\n",
       "    }\n",
       "</style>\n",
       "<table border=\"1\" class=\"dataframe\">\n",
       "  <thead>\n",
       "    <tr style=\"text-align: right;\">\n",
       "      <th></th>\n",
       "      <th>no</th>\n",
       "      <th>loc</th>\n",
       "      <th>start</th>\n",
       "      <th>end</th>\n",
       "      <th>rainseason</th>\n",
       "      <th>raindays</th>\n",
       "      <th>total</th>\n",
       "      <th>year_time</th>\n",
       "      <th>end_time</th>\n",
       "    </tr>\n",
       "  </thead>\n",
       "  <tbody>\n",
       "    <tr>\n",
       "      <th>0</th>\n",
       "      <td>184</td>\n",
       "      <td>제주</td>\n",
       "      <td>1990-06-18</td>\n",
       "      <td>1990-07-17</td>\n",
       "      <td>30</td>\n",
       "      <td>19</td>\n",
       "      <td>445.0</td>\n",
       "      <td>1990-06-18</td>\n",
       "      <td>1990-07-17</td>\n",
       "    </tr>\n",
       "    <tr>\n",
       "      <th>1</th>\n",
       "      <td>185</td>\n",
       "      <td>고산</td>\n",
       "      <td>1990-06-18</td>\n",
       "      <td>1990-07-17</td>\n",
       "      <td>30</td>\n",
       "      <td>18</td>\n",
       "      <td>251.4</td>\n",
       "      <td>1990-06-18</td>\n",
       "      <td>1990-07-17</td>\n",
       "    </tr>\n",
       "    <tr>\n",
       "      <th>2</th>\n",
       "      <td>188</td>\n",
       "      <td>성산</td>\n",
       "      <td>1990-06-18</td>\n",
       "      <td>1990-07-17</td>\n",
       "      <td>30</td>\n",
       "      <td>12</td>\n",
       "      <td>411.1</td>\n",
       "      <td>1990-06-18</td>\n",
       "      <td>1990-07-17</td>\n",
       "    </tr>\n",
       "    <tr>\n",
       "      <th>3</th>\n",
       "      <td>189</td>\n",
       "      <td>서귀포</td>\n",
       "      <td>1990-06-18</td>\n",
       "      <td>1990-07-17</td>\n",
       "      <td>30</td>\n",
       "      <td>19</td>\n",
       "      <td>504.3</td>\n",
       "      <td>1990-06-18</td>\n",
       "      <td>1990-07-17</td>\n",
       "    </tr>\n",
       "    <tr>\n",
       "      <th>4</th>\n",
       "      <td>90</td>\n",
       "      <td>속초</td>\n",
       "      <td>1990-06-19</td>\n",
       "      <td>1990-07-27</td>\n",
       "      <td>39</td>\n",
       "      <td>30</td>\n",
       "      <td>412.3</td>\n",
       "      <td>1990-06-19</td>\n",
       "      <td>1990-07-27</td>\n",
       "    </tr>\n",
       "  </tbody>\n",
       "</table>\n",
       "</div>"
      ],
      "text/plain": [
       "    no  loc       start         end  rainseason  raindays  total  year_time  \\\n",
       "0  184   제주  1990-06-18  1990-07-17          30        19  445.0 1990-06-18   \n",
       "1  185   고산  1990-06-18  1990-07-17          30        18  251.4 1990-06-18   \n",
       "2  188   성산  1990-06-18  1990-07-17          30        12  411.1 1990-06-18   \n",
       "3  189  서귀포  1990-06-18  1990-07-17          30        19  504.3 1990-06-18   \n",
       "4   90   속초  1990-06-19  1990-07-27          39        30  412.3 1990-06-19   \n",
       "\n",
       "    end_time  \n",
       "0 1990-07-17  \n",
       "1 1990-07-17  \n",
       "2 1990-07-17  \n",
       "3 1990-07-17  \n",
       "4 1990-07-27  "
      ]
     },
     "execution_count": 82,
     "metadata": {},
     "output_type": "execute_result"
    }
   ],
   "source": [
    "#연도를 시계열 객체로 변환\n",
    "rainseason['year_time']=pd.to_datetime(rainseason['start'])\n",
    "rainseason.head()\n",
    "rainseason['end_time']=pd.to_datetime(rainseason['end'])\n",
    "rainseason.head()"
   ]
  },
  {
   "cell_type": "code",
   "execution_count": 90,
   "id": "e4a2c2e2",
   "metadata": {},
   "outputs": [
    {
     "data": {
      "text/html": [
       "<div>\n",
       "<style scoped>\n",
       "    .dataframe tbody tr th:only-of-type {\n",
       "        vertical-align: middle;\n",
       "    }\n",
       "\n",
       "    .dataframe tbody tr th {\n",
       "        vertical-align: top;\n",
       "    }\n",
       "\n",
       "    .dataframe thead th {\n",
       "        text-align: right;\n",
       "    }\n",
       "</style>\n",
       "<table border=\"1\" class=\"dataframe\">\n",
       "  <thead>\n",
       "    <tr style=\"text-align: right;\">\n",
       "      <th></th>\n",
       "      <th>no</th>\n",
       "      <th>loc</th>\n",
       "      <th>start</th>\n",
       "      <th>end</th>\n",
       "      <th>rainseason</th>\n",
       "      <th>raindays</th>\n",
       "      <th>total</th>\n",
       "      <th>year_time</th>\n",
       "      <th>end_time</th>\n",
       "      <th>year</th>\n",
       "      <th>month</th>\n",
       "    </tr>\n",
       "  </thead>\n",
       "  <tbody>\n",
       "    <tr>\n",
       "      <th>0</th>\n",
       "      <td>184</td>\n",
       "      <td>제주</td>\n",
       "      <td>1990-06-18</td>\n",
       "      <td>1990-07-17</td>\n",
       "      <td>30</td>\n",
       "      <td>19</td>\n",
       "      <td>445.0</td>\n",
       "      <td>1990-06-18</td>\n",
       "      <td>1990-07-17</td>\n",
       "      <td>1990</td>\n",
       "      <td>6</td>\n",
       "    </tr>\n",
       "    <tr>\n",
       "      <th>1</th>\n",
       "      <td>185</td>\n",
       "      <td>고산</td>\n",
       "      <td>1990-06-18</td>\n",
       "      <td>1990-07-17</td>\n",
       "      <td>30</td>\n",
       "      <td>18</td>\n",
       "      <td>251.4</td>\n",
       "      <td>1990-06-18</td>\n",
       "      <td>1990-07-17</td>\n",
       "      <td>1990</td>\n",
       "      <td>6</td>\n",
       "    </tr>\n",
       "    <tr>\n",
       "      <th>2</th>\n",
       "      <td>188</td>\n",
       "      <td>성산</td>\n",
       "      <td>1990-06-18</td>\n",
       "      <td>1990-07-17</td>\n",
       "      <td>30</td>\n",
       "      <td>12</td>\n",
       "      <td>411.1</td>\n",
       "      <td>1990-06-18</td>\n",
       "      <td>1990-07-17</td>\n",
       "      <td>1990</td>\n",
       "      <td>6</td>\n",
       "    </tr>\n",
       "    <tr>\n",
       "      <th>3</th>\n",
       "      <td>189</td>\n",
       "      <td>서귀포</td>\n",
       "      <td>1990-06-18</td>\n",
       "      <td>1990-07-17</td>\n",
       "      <td>30</td>\n",
       "      <td>19</td>\n",
       "      <td>504.3</td>\n",
       "      <td>1990-06-18</td>\n",
       "      <td>1990-07-17</td>\n",
       "      <td>1990</td>\n",
       "      <td>6</td>\n",
       "    </tr>\n",
       "    <tr>\n",
       "      <th>4</th>\n",
       "      <td>90</td>\n",
       "      <td>속초</td>\n",
       "      <td>1990-06-19</td>\n",
       "      <td>1990-07-27</td>\n",
       "      <td>39</td>\n",
       "      <td>30</td>\n",
       "      <td>412.3</td>\n",
       "      <td>1990-06-19</td>\n",
       "      <td>1990-07-27</td>\n",
       "      <td>1990</td>\n",
       "      <td>6</td>\n",
       "    </tr>\n",
       "  </tbody>\n",
       "</table>\n",
       "</div>"
      ],
      "text/plain": [
       "    no  loc       start         end  rainseason  raindays  total  year_time  \\\n",
       "0  184   제주  1990-06-18  1990-07-17          30        19  445.0 1990-06-18   \n",
       "1  185   고산  1990-06-18  1990-07-17          30        18  251.4 1990-06-18   \n",
       "2  188   성산  1990-06-18  1990-07-17          30        12  411.1 1990-06-18   \n",
       "3  189  서귀포  1990-06-18  1990-07-17          30        19  504.3 1990-06-18   \n",
       "4   90   속초  1990-06-19  1990-07-27          39        30  412.3 1990-06-19   \n",
       "\n",
       "    end_time  year  month  \n",
       "0 1990-07-17  1990      6  \n",
       "1 1990-07-17  1990      6  \n",
       "2 1990-07-17  1990      6  \n",
       "3 1990-07-17  1990      6  \n",
       "4 1990-07-27  1990      6  "
      ]
     },
     "execution_count": 90,
     "metadata": {},
     "output_type": "execute_result"
    }
   ],
   "source": [
    "#연, 월 분철\n",
    "rainseason['year']=rainseason['year_time'].dt.year\n",
    "rainseason['month']=rainseason['year_time'].dt.month\n",
    "rainseason.head()"
   ]
  },
  {
   "cell_type": "code",
   "execution_count": 95,
   "id": "10efaa56",
   "metadata": {},
   "outputs": [
    {
     "data": {
      "text/plain": [
       "[<matplotlib.lines.Line2D at 0x1a56bc543d0>]"
      ]
     },
     "execution_count": 95,
     "metadata": {},
     "output_type": "execute_result"
    },
    {
     "data": {
      "image/png": "[encoded data removed]",
      "text/plain": [
       "<Figure size 432x288 with 1 Axes>"
      ]
     },
     "metadata": {
      "needs_background": "light"
     },
     "output_type": "display_data"
    }
   ],
   "source": [
    "#연도별 최대 장마 일수 그룹핑\n",
    "year_max=rainseason.groupby('year')['rainseason'].max()\n",
    "year_max=year_max.reset_index()\n",
    "\n",
    "#그래프 그리기\n",
    "import matplotlib.pyplot as plt\n",
    "plt.plot(year_max['year'],year_max['rainseason'], color='blue', marker='o')\n",
    "plt.show()"
   ]
  },
  {
   "cell_type": "code",
   "execution_count": 98,
   "id": "4f96a197",
   "metadata": {},
   "outputs": [
    {
     "data": {
      "text/plain": [
       "[<matplotlib.lines.Line2D at 0x1a56bd368b0>]"
      ]
     },
     "execution_count": 98,
     "metadata": {},
     "output_type": "execute_result"
    },
    {
     "data": {
      "text/plain": [
       "Text(0.5, 1.0, '연도별 평균장마일수 변화')"
      ]
     },
     "execution_count": 98,
     "metadata": {},
     "output_type": "execute_result"
    },
    {
     "data": {
      "image/png": "[encoded data removed]",
      "text/plain": [
       "<Figure size 432x288 with 1 Axes>"
      ]
     },
     "metadata": {
      "needs_background": "light"
     },
     "output_type": "display_data"
    }
   ],
   "source": [
    "year_mean=rainseason.groupby('year')['rainseason'].mean()\n",
    "year_mean=year_mean.reset_index()\n",
    "\n",
    "import matplotlib.pyplot as plt\n",
    "plt.plot(year_mean['year'],year_mean['rainseason'],color='blue',marker='o')\n",
    "plt.title(\"연도별 평균장마일수 변화\")\n",
    "plt.show()"
   ]
  },
  {
   "cell_type": "code",
   "execution_count": 45,
   "id": "8e11856b",
   "metadata": {},
   "outputs": [
    {
     "data": {
      "text/html": [
       "<div>\n",
       "<style scoped>\n",
       "    .dataframe tbody tr th:only-of-type {\n",
       "        vertical-align: middle;\n",
       "    }\n",
       "\n",
       "    .dataframe tbody tr th {\n",
       "        vertical-align: top;\n",
       "    }\n",
       "\n",
       "    .dataframe thead th {\n",
       "        text-align: right;\n",
       "    }\n",
       "</style>\n",
       "<table border=\"1\" class=\"dataframe\">\n",
       "  <thead>\n",
       "    <tr style=\"text-align: right;\">\n",
       "      <th></th>\n",
       "      <th>end_time</th>\n",
       "      <th>rainseason</th>\n",
       "    </tr>\n",
       "  </thead>\n",
       "  <tbody>\n",
       "    <tr>\n",
       "      <th>0</th>\n",
       "      <td>2010-07-28</td>\n",
       "      <td>42</td>\n",
       "    </tr>\n",
       "    <tr>\n",
       "      <th>1</th>\n",
       "      <td>2010-07-28</td>\n",
       "      <td>42</td>\n",
       "    </tr>\n",
       "    <tr>\n",
       "      <th>2</th>\n",
       "      <td>2010-07-28</td>\n",
       "      <td>42</td>\n",
       "    </tr>\n",
       "    <tr>\n",
       "      <th>3</th>\n",
       "      <td>2010-07-28</td>\n",
       "      <td>42</td>\n",
       "    </tr>\n",
       "    <tr>\n",
       "      <th>4</th>\n",
       "      <td>2010-07-28</td>\n",
       "      <td>41</td>\n",
       "    </tr>\n",
       "    <tr>\n",
       "      <th>...</th>\n",
       "      <td>...</td>\n",
       "      <td>...</td>\n",
       "    </tr>\n",
       "    <tr>\n",
       "      <th>787</th>\n",
       "      <td>2021-07-19</td>\n",
       "      <td>17</td>\n",
       "    </tr>\n",
       "    <tr>\n",
       "      <th>788</th>\n",
       "      <td>2021-07-19</td>\n",
       "      <td>17</td>\n",
       "    </tr>\n",
       "    <tr>\n",
       "      <th>789</th>\n",
       "      <td>2021-07-19</td>\n",
       "      <td>17</td>\n",
       "    </tr>\n",
       "    <tr>\n",
       "      <th>790</th>\n",
       "      <td>2021-07-19</td>\n",
       "      <td>17</td>\n",
       "    </tr>\n",
       "    <tr>\n",
       "      <th>791</th>\n",
       "      <td>2021-07-19</td>\n",
       "      <td>17</td>\n",
       "    </tr>\n",
       "  </tbody>\n",
       "</table>\n",
       "<p>792 rows × 2 columns</p>\n",
       "</div>"
      ],
      "text/plain": [
       "      end_time  rainseason\n",
       "0   2010-07-28          42\n",
       "1   2010-07-28          42\n",
       "2   2010-07-28          42\n",
       "3   2010-07-28          42\n",
       "4   2010-07-28          41\n",
       "..         ...         ...\n",
       "787 2021-07-19          17\n",
       "788 2021-07-19          17\n",
       "789 2021-07-19          17\n",
       "790 2021-07-19          17\n",
       "791 2021-07-19          17\n",
       "\n",
       "[792 rows x 2 columns]"
      ]
     },
     "execution_count": 45,
     "metadata": {},
     "output_type": "execute_result"
    }
   ],
   "source": [
    "#장마일수\n",
    "장마_rainseason=rainseason[rainseason['rainseason']>=0][['end_time','rainseason']]\n",
    "장마_rainseason"
   ]
  },
  {
   "cell_type": "code",
   "execution_count": 50,
   "id": "0353ffcd",
   "metadata": {},
   "outputs": [
    {
     "data": {
      "text/plain": [
       "<BarContainer object of 792 artists>"
      ]
     },
     "execution_count": 50,
     "metadata": {},
     "output_type": "execute_result"
    },
    {
     "data": {
      "text/plain": [
       "Text(0.5, 1.0, '장마일수 변화')"
      ]
     },
     "execution_count": 50,
     "metadata": {},
     "output_type": "execute_result"
    },
    {
     "data": {
      "text/plain": [
       "Text(0.5, 0, '일자')"
      ]
     },
     "execution_count": 50,
     "metadata": {},
     "output_type": "execute_result"
    },
    {
     "data": {
      "text/plain": [
       "Text(0, 0.5, '장마일수')"
      ]
     },
     "execution_count": 50,
     "metadata": {},
     "output_type": "execute_result"
    },
    {
     "data": {
      "image/png": "[encoded data removed]",
      "text/plain": [
       "<Figure size 432x288 with 1 Axes>"
      ]
     },
     "metadata": {
      "needs_background": "light"
     },
     "output_type": "display_data"
    }
   ],
   "source": [
    "\n",
    "plt.rcParams[\"font.family\"]='gulim'\n",
    "plt.rcParams[\"font.size\"]=12\n",
    "\n",
    "plt.bar(장마_rainseason['end_time'], 장마_rainseason['rainseason'], color='blue')\n",
    "\n",
    "plt.title(\"장마일수 변화\")\n",
    "\n",
    "plt.xlabel(\"일자\")\n",
    "plt.ylabel(\"장마일수\")\n",
    "\n",
    "plt.show()"
   ]
  },
  {
   "cell_type": "code",
   "execution_count": 62,
   "id": "109e821b",
   "metadata": {},
   "outputs": [
    {
     "data": {
      "text/plain": [
       "<Figure size 720x432 with 0 Axes>"
      ]
     },
     "execution_count": 62,
     "metadata": {},
     "output_type": "execute_result"
    },
    {
     "data": {
      "text/plain": [
       "[<matplotlib.lines.Line2D at 0x1a567a17df0>]"
      ]
     },
     "execution_count": 62,
     "metadata": {},
     "output_type": "execute_result"
    },
    {
     "data": {
      "image/png": "[encoded data removed]",
      "text/plain": [
       "<Figure size 720x432 with 1 Axes>"
      ]
     },
     "metadata": {
      "needs_background": "light"
     },
     "output_type": "display_data"
    }
   ],
   "source": [
    "plt.figure(figsize=(10,6))\n",
    "plt.plot(장마_rainseason['end_time'],장마_rainseason['rainseason'], color='blue', marker='o')\n",
    "plt.show()"
   ]
  },
  {
   "cell_type": "code",
   "execution_count": 109,
   "id": "2720db1c",
   "metadata": {},
   "outputs": [],
   "source": [
    "rainseason.to_csv('C:\\\\Users\\\\msi\\\\seaborn-data\\\\rain_season.csv')"
   ]
  },
  {
   "cell_type": "code",
   "execution_count": 110,
   "id": "3475d000",
   "metadata": {},
   "outputs": [
    {
     "data": {
      "text/html": [
       "<div>\n",
       "<style scoped>\n",
       "    .dataframe tbody tr th:only-of-type {\n",
       "        vertical-align: middle;\n",
       "    }\n",
       "\n",
       "    .dataframe tbody tr th {\n",
       "        vertical-align: top;\n",
       "    }\n",
       "\n",
       "    .dataframe thead th {\n",
       "        text-align: right;\n",
       "    }\n",
       "</style>\n",
       "<table border=\"1\" class=\"dataframe\">\n",
       "  <thead>\n",
       "    <tr style=\"text-align: right;\">\n",
       "      <th></th>\n",
       "      <th>year</th>\n",
       "      <th>1m</th>\n",
       "      <th>2m</th>\n",
       "      <th>3m</th>\n",
       "      <th>4m</th>\n",
       "      <th>5m</th>\n",
       "      <th>6m</th>\n",
       "      <th>7m</th>\n",
       "      <th>8m</th>\n",
       "      <th>9m</th>\n",
       "      <th>10m</th>\n",
       "      <th>11m</th>\n",
       "      <th>12m</th>\n",
       "      <th>year.sum</th>\n",
       "      <th>rank</th>\n",
       "    </tr>\n",
       "  </thead>\n",
       "  <tbody>\n",
       "    <tr>\n",
       "      <th>0</th>\n",
       "      <td>1990.0</td>\n",
       "      <td>0.0</td>\n",
       "      <td>0.0</td>\n",
       "      <td>0.0</td>\n",
       "      <td>0.0</td>\n",
       "      <td>0.0</td>\n",
       "      <td>0.2</td>\n",
       "      <td>5.2</td>\n",
       "      <td>10.8</td>\n",
       "      <td>0.2</td>\n",
       "      <td>0.0</td>\n",
       "      <td>0.0</td>\n",
       "      <td>0.0</td>\n",
       "      <td>16.4</td>\n",
       "      <td>5.0</td>\n",
       "    </tr>\n",
       "    <tr>\n",
       "      <th>1</th>\n",
       "      <td>1991.0</td>\n",
       "      <td>0.0</td>\n",
       "      <td>0.0</td>\n",
       "      <td>0.0</td>\n",
       "      <td>0.0</td>\n",
       "      <td>0.1</td>\n",
       "      <td>0.3</td>\n",
       "      <td>1.0</td>\n",
       "      <td>2.2</td>\n",
       "      <td>0.1</td>\n",
       "      <td>0.0</td>\n",
       "      <td>0.0</td>\n",
       "      <td>0.0</td>\n",
       "      <td>3.7</td>\n",
       "      <td>29.0</td>\n",
       "    </tr>\n",
       "    <tr>\n",
       "      <th>2</th>\n",
       "      <td>1992.0</td>\n",
       "      <td>0.0</td>\n",
       "      <td>0.0</td>\n",
       "      <td>0.0</td>\n",
       "      <td>0.0</td>\n",
       "      <td>0.0</td>\n",
       "      <td>0.1</td>\n",
       "      <td>4.7</td>\n",
       "      <td>1.0</td>\n",
       "      <td>0.1</td>\n",
       "      <td>0.0</td>\n",
       "      <td>0.0</td>\n",
       "      <td>0.0</td>\n",
       "      <td>6.0</td>\n",
       "      <td>26.0</td>\n",
       "    </tr>\n",
       "    <tr>\n",
       "      <th>3</th>\n",
       "      <td>1993.0</td>\n",
       "      <td>0.0</td>\n",
       "      <td>0.0</td>\n",
       "      <td>0.0</td>\n",
       "      <td>0.0</td>\n",
       "      <td>0.0</td>\n",
       "      <td>0.0</td>\n",
       "      <td>0.0</td>\n",
       "      <td>0.0</td>\n",
       "      <td>0.0</td>\n",
       "      <td>0.0</td>\n",
       "      <td>0.0</td>\n",
       "      <td>0.0</td>\n",
       "      <td>0.1</td>\n",
       "      <td>33.0</td>\n",
       "    </tr>\n",
       "    <tr>\n",
       "      <th>4</th>\n",
       "      <td>1994.0</td>\n",
       "      <td>0.0</td>\n",
       "      <td>0.0</td>\n",
       "      <td>0.0</td>\n",
       "      <td>0.0</td>\n",
       "      <td>0.0</td>\n",
       "      <td>0.9</td>\n",
       "      <td>17.7</td>\n",
       "      <td>9.8</td>\n",
       "      <td>1.2</td>\n",
       "      <td>0.0</td>\n",
       "      <td>0.0</td>\n",
       "      <td>0.0</td>\n",
       "      <td>29.6</td>\n",
       "      <td>2.0</td>\n",
       "    </tr>\n",
       "    <tr>\n",
       "      <th>...</th>\n",
       "      <td>...</td>\n",
       "      <td>...</td>\n",
       "      <td>...</td>\n",
       "      <td>...</td>\n",
       "      <td>...</td>\n",
       "      <td>...</td>\n",
       "      <td>...</td>\n",
       "      <td>...</td>\n",
       "      <td>...</td>\n",
       "      <td>...</td>\n",
       "      <td>...</td>\n",
       "      <td>...</td>\n",
       "      <td>...</td>\n",
       "      <td>...</td>\n",
       "      <td>...</td>\n",
       "    </tr>\n",
       "    <tr>\n",
       "      <th>102</th>\n",
       "      <td>NaN</td>\n",
       "      <td>NaN</td>\n",
       "      <td>NaN</td>\n",
       "      <td>NaN</td>\n",
       "      <td>NaN</td>\n",
       "      <td>NaN</td>\n",
       "      <td>NaN</td>\n",
       "      <td>NaN</td>\n",
       "      <td>NaN</td>\n",
       "      <td>NaN</td>\n",
       "      <td>NaN</td>\n",
       "      <td>NaN</td>\n",
       "      <td>NaN</td>\n",
       "      <td>NaN</td>\n",
       "      <td>NaN</td>\n",
       "    </tr>\n",
       "    <tr>\n",
       "      <th>103</th>\n",
       "      <td>NaN</td>\n",
       "      <td>NaN</td>\n",
       "      <td>NaN</td>\n",
       "      <td>NaN</td>\n",
       "      <td>NaN</td>\n",
       "      <td>NaN</td>\n",
       "      <td>NaN</td>\n",
       "      <td>NaN</td>\n",
       "      <td>NaN</td>\n",
       "      <td>NaN</td>\n",
       "      <td>NaN</td>\n",
       "      <td>NaN</td>\n",
       "      <td>NaN</td>\n",
       "      <td>NaN</td>\n",
       "      <td>NaN</td>\n",
       "    </tr>\n",
       "    <tr>\n",
       "      <th>104</th>\n",
       "      <td>NaN</td>\n",
       "      <td>NaN</td>\n",
       "      <td>NaN</td>\n",
       "      <td>NaN</td>\n",
       "      <td>NaN</td>\n",
       "      <td>NaN</td>\n",
       "      <td>NaN</td>\n",
       "      <td>NaN</td>\n",
       "      <td>NaN</td>\n",
       "      <td>NaN</td>\n",
       "      <td>NaN</td>\n",
       "      <td>NaN</td>\n",
       "      <td>NaN</td>\n",
       "      <td>NaN</td>\n",
       "      <td>NaN</td>\n",
       "    </tr>\n",
       "    <tr>\n",
       "      <th>105</th>\n",
       "      <td>NaN</td>\n",
       "      <td>NaN</td>\n",
       "      <td>NaN</td>\n",
       "      <td>NaN</td>\n",
       "      <td>NaN</td>\n",
       "      <td>NaN</td>\n",
       "      <td>NaN</td>\n",
       "      <td>NaN</td>\n",
       "      <td>NaN</td>\n",
       "      <td>NaN</td>\n",
       "      <td>NaN</td>\n",
       "      <td>NaN</td>\n",
       "      <td>NaN</td>\n",
       "      <td>NaN</td>\n",
       "      <td>NaN</td>\n",
       "    </tr>\n",
       "    <tr>\n",
       "      <th>106</th>\n",
       "      <td>NaN</td>\n",
       "      <td>NaN</td>\n",
       "      <td>NaN</td>\n",
       "      <td>NaN</td>\n",
       "      <td>NaN</td>\n",
       "      <td>NaN</td>\n",
       "      <td>NaN</td>\n",
       "      <td>NaN</td>\n",
       "      <td>NaN</td>\n",
       "      <td>NaN</td>\n",
       "      <td>NaN</td>\n",
       "      <td>NaN</td>\n",
       "      <td>NaN</td>\n",
       "      <td>NaN</td>\n",
       "      <td>NaN</td>\n",
       "    </tr>\n",
       "  </tbody>\n",
       "</table>\n",
       "<p>107 rows × 15 columns</p>\n",
       "</div>"
      ],
      "text/plain": [
       "       year   1m   2m   3m   4m   5m   6m    7m    8m   9m  10m  11m  12m  \\\n",
       "0    1990.0  0.0  0.0  0.0  0.0  0.0  0.2   5.2  10.8  0.2  0.0  0.0  0.0   \n",
       "1    1991.0  0.0  0.0  0.0  0.0  0.1  0.3   1.0   2.2  0.1  0.0  0.0  0.0   \n",
       "2    1992.0  0.0  0.0  0.0  0.0  0.0  0.1   4.7   1.0  0.1  0.0  0.0  0.0   \n",
       "3    1993.0  0.0  0.0  0.0  0.0  0.0  0.0   0.0   0.0  0.0  0.0  0.0  0.0   \n",
       "4    1994.0  0.0  0.0  0.0  0.0  0.0  0.9  17.7   9.8  1.2  0.0  0.0  0.0   \n",
       "..      ...  ...  ...  ...  ...  ...  ...   ...   ...  ...  ...  ...  ...   \n",
       "102     NaN  NaN  NaN  NaN  NaN  NaN  NaN   NaN   NaN  NaN  NaN  NaN  NaN   \n",
       "103     NaN  NaN  NaN  NaN  NaN  NaN  NaN   NaN   NaN  NaN  NaN  NaN  NaN   \n",
       "104     NaN  NaN  NaN  NaN  NaN  NaN  NaN   NaN   NaN  NaN  NaN  NaN  NaN   \n",
       "105     NaN  NaN  NaN  NaN  NaN  NaN  NaN   NaN   NaN  NaN  NaN  NaN  NaN   \n",
       "106     NaN  NaN  NaN  NaN  NaN  NaN  NaN   NaN   NaN  NaN  NaN  NaN  NaN   \n",
       "\n",
       "     year.sum  rank  \n",
       "0        16.4   5.0  \n",
       "1         3.7  29.0  \n",
       "2         6.0  26.0  \n",
       "3         0.1  33.0  \n",
       "4        29.6   2.0  \n",
       "..        ...   ...  \n",
       "102       NaN   NaN  \n",
       "103       NaN   NaN  \n",
       "104       NaN   NaN  \n",
       "105       NaN   NaN  \n",
       "106       NaN   NaN  \n",
       "\n",
       "[107 rows x 15 columns]"
      ]
     },
     "execution_count": 110,
     "metadata": {},
     "output_type": "execute_result"
    }
   ],
   "source": [
    "heat = pd.read_csv('C:\\ds_work\\data\\heat.csv',encoding = 'cp949')\n",
    "heat"
   ]
  },
  {
   "cell_type": "code",
   "execution_count": 69,
   "id": "8aca5c25",
   "metadata": {},
   "outputs": [
    {
     "data": {
      "text/plain": [
       "[<matplotlib.lines.Line2D at 0x1a567c3c790>]"
      ]
     },
     "execution_count": 69,
     "metadata": {},
     "output_type": "execute_result"
    },
    {
     "data": {
      "image/png": "[encoded data removed]",
      "text/plain": [
       "<Figure size 432x288 with 1 Axes>"
      ]
     },
     "metadata": {
      "needs_background": "light"
     },
     "output_type": "display_data"
    }
   ],
   "source": [
    "#폭염일수 그래프\n",
    "plt.plot(heat['년'],heat['폭염일수'], color='red', marker='o')\n",
    "plt.show()"
   ]
  },
  {
   "cell_type": "code",
   "execution_count": 72,
   "id": "6c7036a3",
   "metadata": {},
   "outputs": [
    {
     "data": {
      "text/plain": [
       "<BarContainer object of 8 artists>"
      ]
     },
     "execution_count": 72,
     "metadata": {},
     "output_type": "execute_result"
    },
    {
     "data": {
      "text/plain": [
       "Text(0.5, 1.0, '평균최고기온')"
      ]
     },
     "execution_count": 72,
     "metadata": {},
     "output_type": "execute_result"
    },
    {
     "data": {
      "text/plain": [
       "Text(0.5, 0, '일자')"
      ]
     },
     "execution_count": 72,
     "metadata": {},
     "output_type": "execute_result"
    },
    {
     "data": {
      "text/plain": [
       "Text(0, 0.5, '평균최고기온')"
      ]
     },
     "execution_count": 72,
     "metadata": {},
     "output_type": "execute_result"
    },
    {
     "data": {
      "image/png": "[encoded data removed]",
      "text/plain": [
       "<Figure size 432x288 with 1 Axes>"
      ]
     },
     "metadata": {
      "needs_background": "light"
     },
     "output_type": "display_data"
    }
   ],
   "source": [
    "#평균 최고기온 그래프\n",
    "plt.bar(heat['년'], heat['평균 최고기온'], color='red')\n",
    "\n",
    "plt.title(\"평균최고기온\")\n",
    "\n",
    "plt.xlabel(\"일자\")\n",
    "plt.ylabel(\"평균최고기온\")\n",
    "\n",
    "plt.show()"
   ]
  },
  {
   "cell_type": "code",
   "execution_count": null,
   "id": "3015735c",
   "metadata": {},
   "outputs": [],
   "source": []
  }
 ],
 "metadata": {
  "kernelspec": {
   "display_name": "Python 3 (ipykernel)",
   "language": "python",
   "name": "python3"
  },
  "language_info": {
   "codemirror_mode": {
    "name": "ipython",
    "version": 3
   },
   "file_extension": ".py",
   "mimetype": "text/x-python",
   "name": "python",
   "nbconvert_exporter": "python",
   "pygments_lexer": "ipython3",
   "version": "3.9.12"
  }
 },
 "nbformat": 4,
 "nbformat_minor": 5
}
