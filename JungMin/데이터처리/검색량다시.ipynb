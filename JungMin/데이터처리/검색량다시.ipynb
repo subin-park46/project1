{
 "cells": [
  {
   "cell_type": "code",
   "execution_count": 1,
   "id": "c5b5229e",
   "metadata": {},
   "outputs": [],
   "source": [
    "#여러변수출력코드\n",
    "from IPython.core.interactiveshell import InteractiveShell\n",
    "InteractiveShell.ast_node_interactivity=\"all\"\n",
    "\n",
    "#모듈 import\n",
    "import numpy as np\n",
    "import pandas as pd"
   ]
  },
  {
   "cell_type": "code",
   "execution_count": 2,
   "id": "4e6c630b",
   "metadata": {},
   "outputs": [],
   "source": [
    "탄소배출=pd.read_csv('C:/ds_work/data/datalab_탄소배출.csv')\n",
    "기후위기=pd.read_csv('C:/ds_work/data/datalab_기후위기.csv')\n",
    "온실가스=pd.read_csv('C:/ds_work/data/datalab_온실가스.csv')\n",
    "이상기후=pd.read_csv('C:/ds_work/data/datalab_이상기후.csv')\n",
    "탄소=pd.read_csv('C:/ds_work/data/datalab_탄소.csv')"
   ]
  },
  {
   "cell_type": "code",
   "execution_count": 6,
   "id": "fd0f0275",
   "metadata": {},
   "outputs": [
    {
     "name": "stdout",
     "output_type": "stream",
     "text": [
      "<class 'pandas.core.frame.DataFrame'>\n",
      "RangeIndex: 72 entries, 0 to 71\n",
      "Data columns (total 2 columns):\n",
      " #   Column  Non-Null Count  Dtype  \n",
      "---  ------  --------------  -----  \n",
      " 0   month   72 non-null     object \n",
      " 1   data    72 non-null     float64\n",
      "dtypes: float64(1), object(1)\n",
      "memory usage: 1.2+ KB\n"
     ]
    }
   ],
   "source": [
    "탄소배출.info()"
   ]
  },
  {
   "cell_type": "code",
   "execution_count": 9,
   "id": "ce7b0053",
   "metadata": {},
   "outputs": [],
   "source": [
    "탄소배출[\"n_date\"]=pd.to_datetime(탄소배출['month'])\n",
    "탄소배출[\"pr_month\"]=탄소배출[\"n_date\"].dt.to_period(freq='M')\n",
    "\n",
    "기후위기[\"n_date\"]=pd.to_datetime(기후위기['month'])\n",
    "기후위기[\"pr_month\"]=기후위기[\"n_date\"].dt.to_period(freq='M')\n",
    "\n",
    "온실가스[\"n_date\"]=pd.to_datetime(온실가스['month'])\n",
    "온실가스[\"pr_month\"]=온실가스[\"n_date\"].dt.to_period(freq='M')\n",
    "\n",
    "이상기후[\"n_date\"]=pd.to_datetime(이상기후['month'])\n",
    "이상기후[\"pr_month\"]=이상기후[\"n_date\"].dt.to_period(freq='M')\n",
    "\n",
    "탄소[\"n_date\"]=pd.to_datetime(탄소['month'])\n",
    "탄소[\"pr_month\"]=탄소[\"n_date\"].dt.to_period(freq='M')"
   ]
  },
  {
   "cell_type": "code",
   "execution_count": 43,
   "id": "3e0e7f70",
   "metadata": {},
   "outputs": [
    {
     "data": {
      "text/html": [
       "<div>\n",
       "<style scoped>\n",
       "    .dataframe tbody tr th:only-of-type {\n",
       "        vertical-align: middle;\n",
       "    }\n",
       "\n",
       "    .dataframe tbody tr th {\n",
       "        vertical-align: top;\n",
       "    }\n",
       "\n",
       "    .dataframe thead th {\n",
       "        text-align: right;\n",
       "    }\n",
       "</style>\n",
       "<table border=\"1\" class=\"dataframe\">\n",
       "  <thead>\n",
       "    <tr style=\"text-align: right;\">\n",
       "      <th></th>\n",
       "      <th>month</th>\n",
       "      <th>data</th>\n",
       "    </tr>\n",
       "  </thead>\n",
       "  <tbody>\n",
       "    <tr>\n",
       "      <th>0</th>\n",
       "      <td>2016-10-01</td>\n",
       "      <td>9.76774</td>\n",
       "    </tr>\n",
       "    <tr>\n",
       "      <th>1</th>\n",
       "      <td>2016-11-01</td>\n",
       "      <td>8.37419</td>\n",
       "    </tr>\n",
       "    <tr>\n",
       "      <th>2</th>\n",
       "      <td>2016-12-01</td>\n",
       "      <td>5.79354</td>\n",
       "    </tr>\n",
       "    <tr>\n",
       "      <th>3</th>\n",
       "      <td>2017-01-01</td>\n",
       "      <td>3.80645</td>\n",
       "    </tr>\n",
       "    <tr>\n",
       "      <th>4</th>\n",
       "      <td>2017-02-01</td>\n",
       "      <td>2.72258</td>\n",
       "    </tr>\n",
       "    <tr>\n",
       "      <th>...</th>\n",
       "      <td>...</td>\n",
       "      <td>...</td>\n",
       "    </tr>\n",
       "    <tr>\n",
       "      <th>67</th>\n",
       "      <td>2022-05-01</td>\n",
       "      <td>63.25161</td>\n",
       "    </tr>\n",
       "    <tr>\n",
       "      <th>68</th>\n",
       "      <td>2022-06-01</td>\n",
       "      <td>49.60000</td>\n",
       "    </tr>\n",
       "    <tr>\n",
       "      <th>69</th>\n",
       "      <td>2022-07-01</td>\n",
       "      <td>59.26451</td>\n",
       "    </tr>\n",
       "    <tr>\n",
       "      <th>70</th>\n",
       "      <td>2022-08-01</td>\n",
       "      <td>50.01290</td>\n",
       "    </tr>\n",
       "    <tr>\n",
       "      <th>71</th>\n",
       "      <td>2022-09-01</td>\n",
       "      <td>54.72258</td>\n",
       "    </tr>\n",
       "  </tbody>\n",
       "</table>\n",
       "<p>72 rows × 2 columns</p>\n",
       "</div>"
      ],
      "text/plain": [
       "         month      data\n",
       "0   2016-10-01   9.76774\n",
       "1   2016-11-01   8.37419\n",
       "2   2016-12-01   5.79354\n",
       "3   2017-01-01   3.80645\n",
       "4   2017-02-01   2.72258\n",
       "..         ...       ...\n",
       "67  2022-05-01  63.25161\n",
       "68  2022-06-01  49.60000\n",
       "69  2022-07-01  59.26451\n",
       "70  2022-08-01  50.01290\n",
       "71  2022-09-01  54.72258\n",
       "\n",
       "[72 rows x 2 columns]"
      ]
     },
     "execution_count": 43,
     "metadata": {},
     "output_type": "execute_result"
    },
    {
     "name": "stdout",
     "output_type": "stream",
     "text": [
      "<class 'pandas.core.frame.DataFrame'>\n",
      "Int64Index: 72 entries, 0 to 71\n",
      "Data columns (total 2 columns):\n",
      " #   Column  Non-Null Count  Dtype  \n",
      "---  ------  --------------  -----  \n",
      " 0   month   72 non-null     object \n",
      " 1   data    72 non-null     float64\n",
      "dtypes: float64(1), object(1)\n",
      "memory usage: 1.7+ KB\n"
     ]
    }
   ],
   "source": [
    "탄소배출_datalab=탄소배출[탄소배출['data']>=0][['month','data']]\n",
    "탄소배출_datalab\n",
    "탄소배출_datalab.info()"
   ]
  },
  {
   "cell_type": "code",
   "execution_count": 48,
   "id": "79023711",
   "metadata": {},
   "outputs": [
    {
     "name": "stdout",
     "output_type": "stream",
     "text": [
      "<class 'pandas.core.series.Series'>\n",
      "RangeIndex: 72 entries, 0 to 71\n",
      "Series name: pr_month\n",
      "Non-Null Count  Dtype    \n",
      "--------------  -----    \n",
      "72 non-null     period[M]\n",
      "dtypes: period[M](1)\n",
      "memory usage: 704.0 bytes\n"
     ]
    }
   ],
   "source": [
    "탄소배출[\"pr_month\"].info()"
   ]
  },
  {
   "cell_type": "code",
   "execution_count": 44,
   "id": "c5ff7ee7",
   "metadata": {},
   "outputs": [
    {
     "data": {
      "text/plain": [
       "[<matplotlib.lines.Line2D at 0x2e1cce93df0>]"
      ]
     },
     "execution_count": 44,
     "metadata": {},
     "output_type": "execute_result"
    },
    {
     "data": {
      "image/png": "[encoded data removed]",
      "text/plain": [
       "<Figure size 432x288 with 1 Axes>"
      ]
     },
     "metadata": {
      "needs_background": "light"
     },
     "output_type": "display_data"
    }
   ],
   "source": [
    "import matplotlib.pyplot as plt\n",
    "plt.plot(탄소배출_datalab['month'],탄소배출_datalab['data'],color = 'red')\n",
    "plt.show()"
   ]
  },
  {
   "cell_type": "code",
   "execution_count": 46,
   "id": "17f360e4",
   "metadata": {},
   "outputs": [
    {
     "data": {
      "text/plain": [
       "[<matplotlib.lines.Line2D at 0x2e1ccfb5df0>]"
      ]
     },
     "execution_count": 46,
     "metadata": {},
     "output_type": "execute_result"
    },
    {
     "data": {
      "image/png": "[encoded data removed]",
      "text/plain": [
       "<Figure size 432x288 with 1 Axes>"
      ]
     },
     "metadata": {
      "needs_background": "light"
     },
     "output_type": "display_data"
    }
   ],
   "source": [
    "이상기후_datalab=이상기후[이상기후['data']>=0][['month','data']]\n",
    "plt.plot(이상기후_datalab['month'],이상기후_datalab['data'],color = 'red')\n",
    "plt.show()"
   ]
  },
  {
   "cell_type": "code",
   "execution_count": 49,
   "id": "0bd717e3",
   "metadata": {},
   "outputs": [
    {
     "data": {
      "text/plain": [
       "[<matplotlib.lines.Line2D at 0x2e1cd0ad2b0>]"
      ]
     },
     "execution_count": 49,
     "metadata": {},
     "output_type": "execute_result"
    },
    {
     "data": {
      "image/png": "[encoded data removed]",
      "text/plain": [
       "<Figure size 432x288 with 1 Axes>"
      ]
     },
     "metadata": {
      "needs_background": "light"
     },
     "output_type": "display_data"
    }
   ],
   "source": [
    "온실가스_datalab=온실가스[온실가스['data']>=0][['month','data']]\n",
    "plt.plot(온실가스_datalab['month'],온실가스_datalab['data'],color = 'red')\n",
    "plt.show()"
   ]
  },
  {
   "cell_type": "code",
   "execution_count": 50,
   "id": "59498c28",
   "metadata": {},
   "outputs": [
    {
     "data": {
      "text/plain": [
       "[<matplotlib.lines.Line2D at 0x2e1cd1aff70>]"
      ]
     },
     "execution_count": 50,
     "metadata": {},
     "output_type": "execute_result"
    },
    {
     "data": {
      "image/png": "[encoded data removed]",
      "text/plain": [
       "<Figure size 432x288 with 1 Axes>"
      ]
     },
     "metadata": {
      "needs_background": "light"
     },
     "output_type": "display_data"
    }
   ],
   "source": [
    "기후위기_datalab=기후위기[기후위기['data']>=0][['month','data']]\n",
    "plt.plot(기후위기_datalab['month'],기후위기_datalab['data'],color = 'red')\n",
    "plt.show()"
   ]
  },
  {
   "cell_type": "code",
   "execution_count": 51,
   "id": "ed23d202",
   "metadata": {},
   "outputs": [
    {
     "data": {
      "text/html": [
       "<div>\n",
       "<style scoped>\n",
       "    .dataframe tbody tr th:only-of-type {\n",
       "        vertical-align: middle;\n",
       "    }\n",
       "\n",
       "    .dataframe tbody tr th {\n",
       "        vertical-align: top;\n",
       "    }\n",
       "\n",
       "    .dataframe thead th {\n",
       "        text-align: right;\n",
       "    }\n",
       "</style>\n",
       "<table border=\"1\" class=\"dataframe\">\n",
       "  <thead>\n",
       "    <tr style=\"text-align: right;\">\n",
       "      <th></th>\n",
       "      <th>data</th>\n",
       "    </tr>\n",
       "  </thead>\n",
       "  <tbody>\n",
       "    <tr>\n",
       "      <th>data</th>\n",
       "      <td>1.0</td>\n",
       "    </tr>\n",
       "  </tbody>\n",
       "</table>\n",
       "</div>"
      ],
      "text/plain": [
       "      data\n",
       "data   1.0"
      ]
     },
     "execution_count": 51,
     "metadata": {},
     "output_type": "execute_result"
    },
    {
     "data": {
      "text/html": [
       "<div>\n",
       "<style scoped>\n",
       "    .dataframe tbody tr th:only-of-type {\n",
       "        vertical-align: middle;\n",
       "    }\n",
       "\n",
       "    .dataframe tbody tr th {\n",
       "        vertical-align: top;\n",
       "    }\n",
       "\n",
       "    .dataframe thead th {\n",
       "        text-align: right;\n",
       "    }\n",
       "</style>\n",
       "<table border=\"1\" class=\"dataframe\">\n",
       "  <thead>\n",
       "    <tr style=\"text-align: right;\">\n",
       "      <th></th>\n",
       "      <th>data</th>\n",
       "    </tr>\n",
       "  </thead>\n",
       "  <tbody>\n",
       "    <tr>\n",
       "      <th>data</th>\n",
       "      <td>1.0</td>\n",
       "    </tr>\n",
       "  </tbody>\n",
       "</table>\n",
       "</div>"
      ],
      "text/plain": [
       "      data\n",
       "data   1.0"
      ]
     },
     "execution_count": 51,
     "metadata": {},
     "output_type": "execute_result"
    },
    {
     "data": {
      "text/plain": [
       "0.8651425867768688"
      ]
     },
     "execution_count": 51,
     "metadata": {},
     "output_type": "execute_result"
    }
   ],
   "source": [
    "탄소배출.corr(method='pearson')\n",
    "기후위기.corr(method='pearson')\n",
    "탄소배출['data'].corr(기후위기['data'],method='pearson')\n",
    "#강한 상관 관계"
   ]
  },
  {
   "cell_type": "code",
   "execution_count": 52,
   "id": "dc9958ec",
   "metadata": {},
   "outputs": [
    {
     "data": {
      "text/plain": [
       "0.5035435589849869"
      ]
     },
     "execution_count": 52,
     "metadata": {},
     "output_type": "execute_result"
    }
   ],
   "source": [
    "온실가스['data'].corr(이상기후['data'],method='pearson')\n",
    "#상관 관계"
   ]
  },
  {
   "cell_type": "code",
   "execution_count": null,
   "id": "0cab31a3",
   "metadata": {},
   "outputs": [],
   "source": []
  }
 ],
 "metadata": {
  "kernelspec": {
   "display_name": "Python 3 (ipykernel)",
   "language": "python",
   "name": "python3"
  },
  "language_info": {
   "codemirror_mode": {
    "name": "ipython",
    "version": 3
   },
   "file_extension": ".py",
   "mimetype": "text/x-python",
   "name": "python",
   "nbconvert_exporter": "python",
   "pygments_lexer": "ipython3",
   "version": "3.9.12"
  }
 },
 "nbformat": 4,
 "nbformat_minor": 5
}
